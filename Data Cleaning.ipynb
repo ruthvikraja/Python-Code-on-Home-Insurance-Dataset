{
 "cells": [
  {
   "cell_type": "code",
   "execution_count": 1,
   "id": "00b2b947",
   "metadata": {},
   "outputs": [],
   "source": [
    "# Importing all the necessary libraries\n",
    "import pandas as pd;\n",
    "import numpy as np;\n",
    "import dill; # To save the current python-session\n",
    "import seaborn as sns\n",
    "import matplotlib.pyplot as plt\n",
    "from sklearn.impute import KNNImputer\n",
    "from sklearn.preprocessing import MinMaxScaler"
   ]
  },
  {
   "cell_type": "code",
   "execution_count": 2,
   "id": "edc406a3",
   "metadata": {},
   "outputs": [],
   "source": [
    "# Importing the Dataset\n",
    "df=pd.read_csv(\"/Users/ruthvikrajam.v/Desktop/Project/Stable Home Insurance - Dataset.csv\");"
   ]
  },
  {
   "cell_type": "code",
   "execution_count": 3,
   "id": "f6abedef",
   "metadata": {},
   "outputs": [
    {
     "data": {
      "text/plain": [
       "object     42\n",
       "float64    23\n",
       "int64       1\n",
       "dtype: int64"
      ]
     },
     "execution_count": 3,
     "metadata": {},
     "output_type": "execute_result"
    }
   ],
   "source": [
    "df.dtypes.value_counts()"
   ]
  },
  {
   "cell_type": "code",
   "execution_count": 4,
   "id": "b06fbf39",
   "metadata": {},
   "outputs": [],
   "source": [
    "# Importing Metadata\n",
    "md1=pd.read_excel(\"/Users/ruthvikrajam.v/Desktop/Analysis of Big Data/Project/Stable Home Insurance - Metadata.xlsx\", \"Sheet1\");\n",
    "md2=pd.read_excel(\"/Users/ruthvikrajam.v/Desktop/Analysis of Big Data/Project/Stable Home Insurance - Metadata.xlsx\", \"Sheet2\");"
   ]
  },
  {
   "cell_type": "code",
   "execution_count": 5,
   "id": "348b0914",
   "metadata": {},
   "outputs": [
    {
     "data": {
      "text/plain": [
       "Index(['QUOTE_DATE', 'COVER_START', 'CLAIM3YEARS', 'P1_EMP_STATUS',\n",
       "       'P1_PT_EMP_STATUS', 'BUS_USE', 'CLERICAL', 'AD_BUILDINGS',\n",
       "       'RISK_RATED_AREA_B', 'SUM_INSURED_BUILDINGS', 'NCD_GRANTED_YEARS_B',\n",
       "       'AD_CONTENTS', 'RISK_RATED_AREA_C', 'SUM_INSURED_CONTENTS',\n",
       "       'NCD_GRANTED_YEARS_C', 'CONTENTS_COVER', 'BUILDINGS_COVER',\n",
       "       'SPEC_SUM_INSURED', 'SPEC_ITEM_PREM', 'UNSPEC_HRP_PREM', 'P1_DOB',\n",
       "       'P1_MAR_STATUS', 'P1_POLICY_REFUSED', 'P1_SEX', 'APPR_ALARM',\n",
       "       'APPR_LOCKS', 'BEDROOMS', 'ROOF_CONSTRUCTION', 'WALL_CONSTRUCTION',\n",
       "       'FLOODING', 'LISTED', 'MAX_DAYS_UNOCC', 'NEIGH_WATCH', 'OCC_STATUS',\n",
       "       'OWNERSHIP_TYPE', 'PAYING_GUESTS', 'PROP_TYPE', 'SAFE_INSTALLED',\n",
       "       'SEC_DISC_REQ', 'SUBSIDENCE', 'YEARBUILT', 'CAMPAIGN_DESC',\n",
       "       'PAYMENT_METHOD', 'PAYMENT_FREQUENCY', 'LEGAL_ADDON_PRE_REN',\n",
       "       'LEGAL_ADDON_POST_REN', 'HOME_EM_ADDON_PRE_REN',\n",
       "       'HOME_EM_ADDON_POST_REN', 'GARDEN_ADDON_PRE_REN',\n",
       "       'GARDEN_ADDON_POST_REN', 'KEYCARE_ADDON_PRE_REN',\n",
       "       'KEYCARE_ADDON_POST_REN', 'HP1_ADDON_PRE_REN', 'HP1_ADDON_POST_REN',\n",
       "       'HP2_ADDON_PRE_REN', 'HP2_ADDON_POST_REN', 'HP3_ADDON_PRE_REN',\n",
       "       'HP3_ADDON_POST_REN', 'MTA_FLAG', 'MTA_FAP', 'MTA_APRP', 'MTA_DATE',\n",
       "       'LAST_ANN_PREM_GROSS', 'POL_STATUS', 'i', 'Police'],\n",
       "      dtype='object')"
      ]
     },
     "execution_count": 5,
     "metadata": {},
     "output_type": "execute_result"
    }
   ],
   "source": [
    "# List of columns\n",
    "df.columns"
   ]
  },
  {
   "cell_type": "code",
   "execution_count": 6,
   "id": "cc88f91f",
   "metadata": {},
   "outputs": [
    {
     "data": {
      "text/plain": [
       "array(['Lapsed', 'Live', 'Cancelled', nan, 'Unknown'], dtype=object)"
      ]
     },
     "execution_count": 6,
     "metadata": {},
     "output_type": "execute_result"
    }
   ],
   "source": [
    "#### Analyzing Unique values in each feature ####:-\n",
    "\n",
    "df[\"CLAIM3YEARS\"].unique()\n",
    "\n",
    "df[\"P1_EMP_STATUS\"].unique()\n",
    "\n",
    "df[\"P1_PT_EMP_STATUS\"].unique()\n",
    "\n",
    "df[\"BUS_USE\"].unique()\n",
    "\n",
    "df[\"CLERICAL\"].unique()\n",
    "\n",
    "df[\"AD_BUILDINGS\"].unique()\n",
    "\n",
    "data1, count1=np.unique(df[\"RISK_RATED_AREA_B\"], return_counts=True)\n",
    "\n",
    "df[\"SUM_INSURED_BUILDINGS\"].unique()\n",
    "\n",
    "data2, count2=np.unique(df[\"NCD_GRANTED_YEARS_B\"], return_counts=True)\n",
    "\n",
    "df[\"AD_CONTENTS\"].unique()\n",
    "\n",
    "data3, count3=np.unique(df[\"RISK_RATED_AREA_C\"], return_counts=True)\n",
    "\n",
    "df[\"SUM_INSURED_CONTENTS\"].unique()\n",
    "\n",
    "data4, count4=np.unique(df[\"NCD_GRANTED_YEARS_C\"], return_counts=True)\n",
    "\n",
    "df[\"CONTENTS_COVER\"].unique()\n",
    "\n",
    "df[\"BUILDINGS_COVER\"].unique()\n",
    "\n",
    "data5, count5=np.unique(df[\"SPEC_SUM_INSURED\"], return_counts=True)\n",
    "\n",
    "data6, count6=np.unique(df[\"SPEC_ITEM_PREM\"], return_counts=True)\n",
    "\n",
    "data7, count7=np.unique(df[\"UNSPEC_HRP_PREM\"], return_counts=True)\n",
    "\n",
    "df[\"P1_MAR_STATUS\"].unique()\n",
    "\n",
    "df[\"P1_POLICY_REFUSED\"].unique()\n",
    "\n",
    "df[\"P1_SEX\"].unique()\n",
    "\n",
    "df[\"APPR_ALARM\"].unique()\n",
    "\n",
    "df[\"APPR_LOCKS\"].unique()\n",
    "\n",
    "df[\"BEDROOMS\"].unique()\n",
    "\n",
    "data8, count8=np.unique(df[\"ROOF_CONSTRUCTION\"], return_counts=True)\n",
    "\n",
    "data9, count9=np.unique(df[\"WALL_CONSTRUCTION\"], return_counts=True)\n",
    "\n",
    "df[\"FLOODING\"].unique()\n",
    "\n",
    "data10, count10=np.unique(df[\"LISTED\"], return_counts=True)\n",
    "\n",
    "data11, count11=np.unique(df[\"MAX_DAYS_UNOCC\"], return_counts=True)\n",
    "\n",
    "df[\"NEIGH_WATCH\"].unique()\n",
    "\n",
    "df[\"OCC_STATUS\"].unique()\n",
    "\n",
    "data12, count12=np.unique(df[\"OWNERSHIP_TYPE\"], return_counts=True)\n",
    "\n",
    "data13, count13=np.unique(df[\"PAYING_GUESTS\"], return_counts=True)\n",
    "\n",
    "data14, count14=np.unique(df[\"PROP_TYPE\"], return_counts=True)\n",
    "\n",
    "df[\"SAFE_INSTALLED\"].unique()\n",
    "\n",
    "df[\"SEC_DISC_REQ\"].unique()\n",
    "\n",
    "df[\"SUBSIDENCE\"].unique()\n",
    "\n",
    "data15, count15=np.unique(df[\"YEARBUILT\"], return_counts=True)\n",
    "\n",
    "df[\"CAMPAIGN_DESC\"].unique()\n",
    "\n",
    "df[\"PAYMENT_METHOD\"].unique()\n",
    "\n",
    "data16, count16=np.unique(df[\"PAYMENT_FREQUENCY\"], return_counts=True)\n",
    "\n",
    "df[\"LEGAL_ADDON_PRE_REN\"].unique()\n",
    "\n",
    "df[\"LEGAL_ADDON_POST_REN\"].unique()\n",
    "\n",
    "df[\"HOME_EM_ADDON_PRE_REN\"].unique()\n",
    "\n",
    "df[\"HOME_EM_ADDON_POST_REN\"].unique()\n",
    "\n",
    "df[\"GARDEN_ADDON_PRE_REN\"].unique()\n",
    "\n",
    "df[\"GARDEN_ADDON_POST_REN\"].unique()\n",
    "\n",
    "df[\"KEYCARE_ADDON_PRE_REN\"].unique()\n",
    "\n",
    "df[\"KEYCARE_ADDON_POST_REN\"].unique()\n",
    "\n",
    "df[\"HP1_ADDON_PRE_REN\"].unique()\n",
    "\n",
    "df[\"HP1_ADDON_POST_REN\"].unique()\n",
    "\n",
    "df[\"HP2_ADDON_PRE_REN\"].unique()\n",
    "\n",
    "df[\"HP2_ADDON_POST_REN\"].unique()\n",
    "\n",
    "df[\"HP3_ADDON_PRE_REN\"].unique()\n",
    "\n",
    "df[\"HP3_ADDON_POST_REN\"].unique()\n",
    "\n",
    "df[\"MTA_FLAG\"].unique()\n",
    "\n",
    "data17, count17=np.unique(df[\"MTA_FAP\"], return_counts=True)\n",
    "\n",
    "data18, count18=np.unique(df[\"MTA_APRP\"], return_counts=True)\n",
    "\n",
    "data19, count19=np.unique(df[\"LAST_ANN_PREM_GROSS\"], return_counts=True)\n",
    "\n",
    "df[\"POL_STATUS\"].unique()"
   ]
  },
  {
   "cell_type": "code",
   "execution_count": 7,
   "id": "f2358ba8",
   "metadata": {},
   "outputs": [],
   "source": [
    "#### Output for the above commands ####:-\n",
    "\n",
    "#[Excluding nan values] -> Except in Police column, we have nan values in all other columns\n",
    "\n",
    "# QUOTE_DATE -> MM/DD/YYYY\n",
    "# COVER_START -> DD/MM/YYYY\n",
    "# CLAIM3YEARS -> Y, N [Whether the person has claimed for Insurance (or) not in the last three years]\n",
    "# P1_EMP_STATUS -> R, E, S, N, H, U, A, F, I, V, C\n",
    "# P1_PT_EMP_STATUS -> R, E, S, H, U, F, I, V, C \n",
    "# BUS_USE -> Y, N\n",
    "# CLERICAL -> Y, N\n",
    "# AD_BUILDINGS -> Y, N\n",
    "# RISK_RATED_AREA_B -> 54 distinct values ranging from 0 to 98\n",
    "# SUM_INSURED_BUILDINGS -> 0, 1000000\n",
    "# NCD_GRANTED_YEARS_B -> 10 distinct values ranging from 0 to 9\n",
    "# AD_CONTENTS -> Y, N\n",
    "# RISK_RATED_AREA_C -> 49 distinct values ranging from 0 to 98\n",
    "# SUM_INSURED_CONTENTS -> 0, 50000, 55000, 60000, 65000, 70000, 75000, 80000, 85000, 90000, 100000\n",
    "# NCD_GRANTED_YEARS_C -> 10 distinct values ranging from 0 to 9\n",
    "# CONTENTS_COVER -> Y, N\n",
    "# BUILDINGS_COVER -> Y, N\n",
    "# SPEC_SUM_INSURED -> 2155 distinct values ranging from 0 to 47500\n",
    "# SPEC_ITEM_PREM -> 5474 distinct values randing from 0 to 973.53\n",
    "# UNSPEC_HRP_PREM -> 2993 distinct values ranging from 0 to 162.61\n",
    "# P1_DOB -> DD/MM/YYYY\n",
    "# P1_MAR_STATUS -> O, M, S, W, D, P, A, C, B, N\n",
    "# P1_POLICY_REFUSED -> Y, N\n",
    "# P1_SEX -> M, F, N\n",
    "# APPR_ALARM -> Y, N\n",
    "# APPR_LOCKS -> Y, N\n",
    "# BEDROOMS -> 1, 2, 3, 4, 5, 6, 7\n",
    "# ROOF_CONSTRUCTION -> 17 distinct values ranging from 2 to 99\n",
    "# WALL_CONSTRUCTION -> 19 distinct values ranging from 1 to 99\n",
    "# FLOODING -> Y, N\n",
    "# LISTED -> 1, 2, 3, 4, 5\n",
    "# MAX_DAYS_UNOCC -> 7 distinct values ranging from 0 to 181\n",
    "# NEIGH_WATCH -> N, Y\n",
    "# OCC_STATUS -> PH, UN, LP, HH, WD, WE, OT\n",
    "# OWNERSHIP_TYPE -> 14 unique values ranging from 1 to 18\n",
    "# PAYING_GUESTS -> 0, 1\n",
    "# PROP_TYPE -> 36 unique values ranging from 1 to 53\n",
    "# SAFE_INSTALLED -> Y, N\n",
    "# SEC_DISC_REQ -> Y, N\n",
    "# SUBSIDENCE -> Y, N\n",
    "# YEARBUILT -> 17 unique values ranging from 1749 to 2000\n",
    "# CAMPAIGN_DESC -> All are nan values \n",
    "# PAYMENT_METHOD -> PureDD, NonDD, DD-Other\n",
    "# PAYMENT_FREQUENCY -> 1\n",
    "# LEGAL_ADDON_PRE_REN -> Y, N\n",
    "# LEGAL_ADDON_POST_REN -> Y, N\n",
    "# HOME_EM_ADDON_PRE_REN -> Y, N\n",
    "# HOME_EM_ADDON_POST_REN -> Y, N\n",
    "# GARDEN_ADDON_PRE_REN -> Y, N\n",
    "# GARDEN_ADDON_POST_REN -> Y, N\n",
    "# KEYCARE_ADDON_PRE_REN -> Y, N\n",
    "# KEYCARE_ADDON_POST_REN -> Y, N\n",
    "# HP1_ADDON_PRE_REN -> Y, N\n",
    "# HP1_ADDON_POST_REN -> Y, N\n",
    "# HP2_ADDON_PRE_REN -> Y, N\n",
    "# HP2_ADDON_POST_REN -> Y, N\n",
    "# HP3_ADDON_PRE_REN -> Y, N\n",
    "# HP3_ADDON_POST_REN -> Y, N\n",
    "# MTA_FLAG -> Y, N\n",
    "# MTA_FAP -> 25994 unique values ranging from -1152.68 to 4631.86\n",
    "# MTA_APRP -> 19204 unique values ranging from -423.08 to 1449.24\n",
    "# MTA_DATE -> DD/MM/YYYY\n",
    "# LAST_ANN_PREM_GROSS -> 37445 unique values ranging from -1152.68 to 4631.86\n",
    "# POL_STATUS -> Lapsed, Live, Cancelled, Unknown\n",
    "# Police -> Unique code that starts from \"P000001\" to \"P256136\" [size of the dataset]"
   ]
  },
  {
   "cell_type": "code",
   "execution_count": 8,
   "id": "20e66fad",
   "metadata": {},
   "outputs": [],
   "source": [
    "df1=df.copy();"
   ]
  },
  {
   "cell_type": "markdown",
   "id": "0ef09063",
   "metadata": {},
   "source": [
    "# Data Cleaning:-"
   ]
  },
  {
   "cell_type": "code",
   "execution_count": 9,
   "id": "6978d16c",
   "metadata": {},
   "outputs": [],
   "source": [
    "#### DROPPING THE COLUMNS ####:-\n",
    "\n",
    "# Dropping the column i -> Index from 1 to 256136\n",
    "df1=df1.drop(columns=[\"i\"]);\n",
    "\n",
    "# Dropping the column CAMPAIGN_DESC -> All are Nan values\n",
    "df1=df1.drop(columns=[\"CAMPAIGN_DESC\"]); \n",
    "\n",
    "# Dropping the column P1_PT_EMP_STATUS -> 99.3% of the values are Nan values\n",
    "df1=df1.drop(columns=[\"P1_PT_EMP_STATUS\"]);\n",
    "\n",
    "# Dropping the column CLERICAL -> 98.86% of the values are Nan values\n",
    "df1=df1.drop(columns=[\"CLERICAL\"]);"
   ]
  },
  {
   "cell_type": "code",
   "execution_count": 10,
   "id": "cb8d2c44",
   "metadata": {},
   "outputs": [],
   "source": [
    "#### Dropping the rows ####:-\n",
    "\n",
    "df1=df1.dropna(axis=0, how=\"all\"); # Dropping the rows if all the column values are Null values\n",
    "df1=df1.dropna(axis=0, thresh = 30) # Keep rows with atleast 30 Non-Null values -> 50% of the info\n",
    "                                    # thresh -> require that many non-NA values\n"
   ]
  },
  {
   "cell_type": "code",
   "execution_count": 11,
   "id": "2359c7a1",
   "metadata": {},
   "outputs": [
    {
     "data": {
      "text/plain": [
       "55"
      ]
     },
     "execution_count": 11,
     "metadata": {},
     "output_type": "execute_result"
    }
   ],
   "source": [
    "#### Additional Analysis to drop rows and columns ####:-\n",
    "\n",
    "df1.notnull().all().sum() # Getting the count of columns with no Null values "
   ]
  },
  {
   "cell_type": "code",
   "execution_count": 12,
   "id": "5bb8548f",
   "metadata": {},
   "outputs": [],
   "source": [
    "# Therefore from above it is clear that there are 7 columns with Null values\n",
    " # QUOTE_DATE -> 79144 non-null\n",
    " # RISK_RATED_AREA_B -> 140876 non-null\n",
    " # RISK_RATED_AREA_C -> 180290 non-null \n",
    " # PAYMENT_FREQUENCY -> 80554 non-null\n",
    " # MTA_FAP -> 55380 non-null\n",
    " # MTA_APRP -> 55380 non-null\n",
    " # MTA_DATE -> 26430 non-null,,,,,,,,,,,,,,,,,,,, out of 189021 values\n",
    "\n",
    " # Thereby, more than 70% of the values are Null values for the columns MTA_FAP, MTA_APRP, MTA_DATE so, dropping the three columns\n",
    " # Also, more than 57% of the values are Null values for the column PAYMENT_FREQUENCY and there is only one unique value for the entire \n",
    "  # column i.e 1 apart from Null value. So, dropping this column doesn't make much difference\n",
    "  \n",
    "df1=df1.drop(columns=[\"PAYMENT_FREQUENCY\", \"MTA_FAP\", \"MTA_APRP\", \"MTA_DATE\"]);\n"
   ]
  },
  {
   "cell_type": "code",
   "execution_count": 13,
   "id": "3fe69b39",
   "metadata": {},
   "outputs": [],
   "source": [
    "# Dealing with rest of the columns:- QUOTE_DATE, RISK_RATED_AREA_B, RISK_RATED_AREA_C\n",
    " # 58% of the data are Null values in the column QUOTE_DATE so,dropping the column QUOTE_DATE\n",
    "\n",
    "df1=df1.drop(columns=[\"QUOTE_DATE\"]);"
   ]
  },
  {
   "cell_type": "code",
   "execution_count": 14,
   "id": "f5e32614",
   "metadata": {},
   "outputs": [
    {
     "data": {
      "image/png": "[encoded data removed]",
      "text/plain": [
       "<Figure size 432x288 with 1 Axes>"
      ]
     },
     "metadata": {
      "needs_background": "light"
     },
     "output_type": "display_data"
    }
   ],
   "source": [
    "# Box Plot for the columns RISK_RATED_AREA_C (&) RISK_RATED_AREA_B\n",
    "df1[\"RISK_RATED_AREA_C\"].plot(kind=\"box\")\n",
    "plt.title(\"BoxPlot for RISK_RATED_AREA_C\");\n"
   ]
  },
  {
   "cell_type": "code",
   "execution_count": 15,
   "id": "3ca0bad4",
   "metadata": {},
   "outputs": [
    {
     "data": {
      "image/png": "[encoded data removed]",
      "text/plain": [
       "<Figure size 432x288 with 1 Axes>"
      ]
     },
     "metadata": {
      "needs_background": "light"
     },
     "output_type": "display_data"
    }
   ],
   "source": [
    "df1[\"RISK_RATED_AREA_B\"].plot(kind=\"box\")\n",
    "plt.title(\"BoxPlot for RISK_RATED_AREA_B\");\n"
   ]
  },
  {
   "cell_type": "code",
   "execution_count": 16,
   "id": "83b6f53c",
   "metadata": {},
   "outputs": [
    {
     "name": "stdout",
     "output_type": "stream",
     "text": [
      "28.0\n",
      "-12.0\n"
     ]
    }
   ],
   "source": [
    "# RISK_RATED_AREA_C -> Applying Mean concept to fill the Null values\n",
    "\n",
    " # From above it is clear that the columns have outliers \n",
    "Q3, Q1=np.nanpercentile(df1[\"RISK_RATED_AREA_C\"], [75, 25]);\n",
    "IQR=Q3-Q1;\n",
    "UL=Q3+1.5*IQR; # Upper Limit\n",
    "LL=Q1-1.5*IQR; # Lower Limit\n",
    "print(UL);\n",
    "print(LL);"
   ]
  },
  {
   "cell_type": "code",
   "execution_count": 17,
   "id": "84d09459",
   "metadata": {},
   "outputs": [
    {
     "data": {
      "text/plain": [
       "<AxesSubplot:>"
      ]
     },
     "execution_count": 17,
     "metadata": {},
     "output_type": "execute_result"
    },
    {
     "data": {
      "image/png": "[encoded data removed]",
      "text/plain": [
       "<Figure size 432x288 with 1 Axes>"
      ]
     },
     "metadata": {
      "needs_background": "light"
     },
     "output_type": "display_data"
    }
   ],
   "source": [
    "no_outliers_RISK_RATED_AREA_C=[x for x in df1[\"RISK_RATED_AREA_C\"] if x>LL and x<UL]\n",
    "no_outliers_RISK_RATED_AREA_C=pd.Series(no_outliers_RISK_RATED_AREA_C)\n",
    "no_outliers_RISK_RATED_AREA_C.plot(kind=\"box\")"
   ]
  },
  {
   "cell_type": "code",
   "execution_count": 18,
   "id": "0b78eb01",
   "metadata": {},
   "outputs": [],
   "source": [
    "df1['RISK_RATED_AREA_C'].fillna((no_outliers_RISK_RATED_AREA_C.mean()), inplace=True)"
   ]
  },
  {
   "cell_type": "code",
   "execution_count": 19,
   "id": "951810be",
   "metadata": {},
   "outputs": [],
   "source": [
    "# RISK_RATED_AREA_B -> Applying KNN algorithm to fill the Null values\n",
    "\n",
    "df1=df1.reset_index()\n",
    "del df1['index']"
   ]
  },
  {
   "cell_type": "code",
   "execution_count": 20,
   "id": "5cf867f3",
   "metadata": {},
   "outputs": [],
   "source": [
    "df2=df1.copy()\n",
    "df2=df2.drop(columns=[\"COVER_START\", \"P1_DOB\", \"Police\"])"
   ]
  },
  {
   "cell_type": "code",
   "execution_count": 21,
   "id": "e4b28719",
   "metadata": {},
   "outputs": [],
   "source": [
    "df3=pd.get_dummies(df2, drop_first=True)"
   ]
  },
  {
   "cell_type": "code",
   "execution_count": 22,
   "id": "c379c897",
   "metadata": {},
   "outputs": [],
   "source": [
    "# Scaling the values\n",
    "scaler = MinMaxScaler()\n",
    "df4 = pd.DataFrame(scaler.fit_transform(df3), columns = df3.columns)"
   ]
  },
  {
   "cell_type": "code",
   "execution_count": 23,
   "id": "bcaf5fb8",
   "metadata": {},
   "outputs": [],
   "source": [
    "# Implementing KNN Imputer on the feature RISK_RATED_AREA_B\n",
    "imputer = KNNImputer(n_neighbors=3)\n",
    "df_imputer = pd.DataFrame(imputer.fit_transform(df4),columns = df4.columns)"
   ]
  },
  {
   "cell_type": "code",
   "execution_count": 24,
   "id": "3ec8027c",
   "metadata": {},
   "outputs": [],
   "source": [
    "# Inversing the scaled values\n",
    "df_imputer_inverse=scaler.inverse_transform(df_imputer)\n",
    "df_imputer_inverse=pd.DataFrame(df_imputer_inverse)"
   ]
  },
  {
   "cell_type": "code",
   "execution_count": 25,
   "id": "db7e3b21",
   "metadata": {},
   "outputs": [],
   "source": [
    "# Final Dataset\n",
    "df_final=df1.copy()\n",
    "RISK_RATED_AREA_B_New=df_imputer_inverse[0]\n",
    "df_final[\"RISK_RATED_AREA_B\"] = RISK_RATED_AREA_B_New"
   ]
  },
  {
   "cell_type": "code",
   "execution_count": 26,
   "id": "a5e391ee",
   "metadata": {},
   "outputs": [
    {
     "name": "stdout",
     "output_type": "stream",
     "text": [
      "<class 'pandas.core.frame.DataFrame'>\n",
      "RangeIndex: 189021 entries, 0 to 189020\n",
      "Data columns (total 57 columns):\n",
      " #   Column                  Non-Null Count   Dtype  \n",
      "---  ------                  --------------   -----  \n",
      " 0   COVER_START             189021 non-null  object \n",
      " 1   CLAIM3YEARS             189021 non-null  object \n",
      " 2   P1_EMP_STATUS           189021 non-null  object \n",
      " 3   BUS_USE                 189021 non-null  object \n",
      " 4   AD_BUILDINGS            189021 non-null  object \n",
      " 5   RISK_RATED_AREA_B       189021 non-null  float64\n",
      " 6   SUM_INSURED_BUILDINGS   189021 non-null  float64\n",
      " 7   NCD_GRANTED_YEARS_B     189021 non-null  float64\n",
      " 8   AD_CONTENTS             189021 non-null  object \n",
      " 9   RISK_RATED_AREA_C       189021 non-null  float64\n",
      " 10  SUM_INSURED_CONTENTS    189021 non-null  float64\n",
      " 11  NCD_GRANTED_YEARS_C     189021 non-null  float64\n",
      " 12  CONTENTS_COVER          189021 non-null  object \n",
      " 13  BUILDINGS_COVER         189021 non-null  object \n",
      " 14  SPEC_SUM_INSURED        189021 non-null  float64\n",
      " 15  SPEC_ITEM_PREM          189021 non-null  float64\n",
      " 16  UNSPEC_HRP_PREM         189021 non-null  float64\n",
      " 17  P1_DOB                  189021 non-null  object \n",
      " 18  P1_MAR_STATUS           189021 non-null  object \n",
      " 19  P1_POLICY_REFUSED       189021 non-null  object \n",
      " 20  P1_SEX                  189021 non-null  object \n",
      " 21  APPR_ALARM              189021 non-null  object \n",
      " 22  APPR_LOCKS              189021 non-null  object \n",
      " 23  BEDROOMS                189021 non-null  float64\n",
      " 24  ROOF_CONSTRUCTION       189021 non-null  float64\n",
      " 25  WALL_CONSTRUCTION       189021 non-null  float64\n",
      " 26  FLOODING                189021 non-null  object \n",
      " 27  LISTED                  189021 non-null  float64\n",
      " 28  MAX_DAYS_UNOCC          189021 non-null  float64\n",
      " 29  NEIGH_WATCH             189021 non-null  object \n",
      " 30  OCC_STATUS              189021 non-null  object \n",
      " 31  OWNERSHIP_TYPE          189021 non-null  float64\n",
      " 32  PAYING_GUESTS           189021 non-null  float64\n",
      " 33  PROP_TYPE               189021 non-null  float64\n",
      " 34  SAFE_INSTALLED          189021 non-null  object \n",
      " 35  SEC_DISC_REQ            189021 non-null  object \n",
      " 36  SUBSIDENCE              189021 non-null  object \n",
      " 37  YEARBUILT               189021 non-null  float64\n",
      " 38  PAYMENT_METHOD          189021 non-null  object \n",
      " 39  LEGAL_ADDON_PRE_REN     189021 non-null  object \n",
      " 40  LEGAL_ADDON_POST_REN    189021 non-null  object \n",
      " 41  HOME_EM_ADDON_PRE_REN   189021 non-null  object \n",
      " 42  HOME_EM_ADDON_POST_REN  189021 non-null  object \n",
      " 43  GARDEN_ADDON_PRE_REN    189021 non-null  object \n",
      " 44  GARDEN_ADDON_POST_REN   189021 non-null  object \n",
      " 45  KEYCARE_ADDON_PRE_REN   189021 non-null  object \n",
      " 46  KEYCARE_ADDON_POST_REN  189021 non-null  object \n",
      " 47  HP1_ADDON_PRE_REN       189021 non-null  object \n",
      " 48  HP1_ADDON_POST_REN      189021 non-null  object \n",
      " 49  HP2_ADDON_PRE_REN       189021 non-null  object \n",
      " 50  HP2_ADDON_POST_REN      189021 non-null  object \n",
      " 51  HP3_ADDON_PRE_REN       189021 non-null  object \n",
      " 52  HP3_ADDON_POST_REN      189021 non-null  object \n",
      " 53  MTA_FLAG                189021 non-null  object \n",
      " 54  LAST_ANN_PREM_GROSS     189021 non-null  float64\n",
      " 55  POL_STATUS              189021 non-null  object \n",
      " 56  Police                  189021 non-null  object \n",
      "dtypes: float64(19), object(38)\n",
      "memory usage: 82.2+ MB\n"
     ]
    }
   ],
   "source": [
    "df_final.info() # No Null values"
   ]
  },
  {
   "cell_type": "code",
   "execution_count": null,
   "id": "990176f4",
   "metadata": {},
   "outputs": [],
   "source": [
    "# Exporting the final dataset to local disk\n",
    "df_final.to_csv(\"/Users/ruthvikrajam.v/Desktop/Final Dataset.csv\");"
   ]
  }
 ],
 "metadata": {
  "kernelspec": {
   "display_name": "Python 3 (ipykernel)",
   "language": "python",
   "name": "python3"
  },
  "language_info": {
   "codemirror_mode": {
    "name": "ipython",
    "version": 3
   },
   "file_extension": ".py",
   "mimetype": "text/x-python",
   "name": "python",
   "nbconvert_exporter": "python",
   "pygments_lexer": "ipython3",
   "version": "3.8.3"
  }
 },
 "nbformat": 4,
 "nbformat_minor": 5
}
